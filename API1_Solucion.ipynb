{
 "cells": [
  {
   "cell_type": "code",
   "execution_count": 39,
   "id": "2b483026-bb3f-46ad-80ba-e8d4d1e70949",
   "metadata": {},
   "outputs": [],
   "source": [
    "import requests\n",
    "import pandas as pd"
   ]
  },
  {
   "cell_type": "code",
   "execution_count": null,
   "id": "4c5e698e-6dc9-4b75-abe7-737aaab0f4ff",
   "metadata": {},
   "outputs": [],
   "source": [
    "#A través de está API do instituto de arte de Chicago realiza as seguintes tarefas\n",
    "#https://api.artic.edu/docs/#introduction"
   ]
  },
  {
   "cell_type": "code",
   "execution_count": null,
   "id": "ec40fd61-c50c-4684-99aa-9cc004da0aca",
   "metadata": {},
   "outputs": [],
   "source": [
    "#Carga nunha lista o título de todas as obras de monet y el acceso a sus respectivas APIS"
   ]
  },
  {
   "cell_type": "code",
   "execution_count": 69,
   "id": "3a19e6f6-65c5-4383-a164-09070e0eb2fd",
   "metadata": {},
   "outputs": [],
   "source": [
    "url = 'https://api.artic.edu/api/v1/artworks/search?q=monet'\n",
    "resp = requests.get(url)"
   ]
  },
  {
   "cell_type": "code",
   "execution_count": 72,
   "id": "87cf6871-72a4-4fc8-b101-5fe2097aaec6",
   "metadata": {},
   "outputs": [
    {
     "data": {
      "text/plain": [
       "[['Water Lilies', 'https://api.artic.edu/api/v1/artworks/16568'],\n",
       " ['Arrival of the Normandy Train, Gare Saint-Lazare',\n",
       "  'https://api.artic.edu/api/v1/artworks/16571'],\n",
       " ['Stacks of Wheat (End of Summer)',\n",
       "  'https://api.artic.edu/api/v1/artworks/64818'],\n",
       " ['Cliff Walk at Pourville', 'https://api.artic.edu/api/v1/artworks/14620'],\n",
       " ['Water Lily Pond', 'https://api.artic.edu/api/v1/artworks/87088'],\n",
       " ['The Beach at Sainte-Adresse',\n",
       "  'https://api.artic.edu/api/v1/artworks/14598'],\n",
       " ['Bordighera', 'https://api.artic.edu/api/v1/artworks/81537'],\n",
       " ['Stacks of Wheat (End of Day, Autumn)',\n",
       "  'https://api.artic.edu/api/v1/artworks/14624'],\n",
       " ['Branch of the Seine near Giverny (Mist)',\n",
       "  'https://api.artic.edu/api/v1/artworks/16564'],\n",
       " ['On the Bank of the Seine, Bennecourt',\n",
       "  'https://api.artic.edu/api/v1/artworks/81539']]"
      ]
     },
     "execution_count": 72,
     "metadata": {},
     "output_type": "execute_result"
    }
   ],
   "source": [
    "todos = resp.json()['data']\n",
    "lista_Titulos = []\n",
    "lista_Temp = []\n",
    "\n",
    "for i in todos:\n",
    "    titulo = i['title']\n",
    "    api = i['api_link']\n",
    "    lista_Temp.extend([titulo, api])\n",
    "    lista_Titulos.append(lista_Temp)\n",
    "    lista_Temp = []\n",
    "\n",
    "lista_Titulos"
   ]
  },
  {
   "cell_type": "code",
   "execution_count": 70,
   "id": "bb3e3b73-fb66-4183-a820-ceb890a0fc20",
   "metadata": {},
   "outputs": [],
   "source": [
    "#A partir de la lista del ejercicio anterior crea un dataframe con las columnas de Titulo y API"
   ]
  },
  {
   "cell_type": "code",
   "execution_count": 73,
   "id": "96f46649-f103-45d7-8a6b-890dec15329a",
   "metadata": {},
   "outputs": [
    {
     "data": {
      "text/html": [
       "<div>\n",
       "<style scoped>\n",
       "    .dataframe tbody tr th:only-of-type {\n",
       "        vertical-align: middle;\n",
       "    }\n",
       "\n",
       "    .dataframe tbody tr th {\n",
       "        vertical-align: top;\n",
       "    }\n",
       "\n",
       "    .dataframe thead th {\n",
       "        text-align: right;\n",
       "    }\n",
       "</style>\n",
       "<table border=\"1\" class=\"dataframe\">\n",
       "  <thead>\n",
       "    <tr style=\"text-align: right;\">\n",
       "      <th></th>\n",
       "      <th>Titulo</th>\n",
       "      <th>API</th>\n",
       "    </tr>\n",
       "  </thead>\n",
       "  <tbody>\n",
       "    <tr>\n",
       "      <th>0</th>\n",
       "      <td>Water Lilies</td>\n",
       "      <td>https://api.artic.edu/api/v1/artworks/16568</td>\n",
       "    </tr>\n",
       "    <tr>\n",
       "      <th>1</th>\n",
       "      <td>Arrival of the Normandy Train, Gare Saint-Lazare</td>\n",
       "      <td>https://api.artic.edu/api/v1/artworks/16571</td>\n",
       "    </tr>\n",
       "    <tr>\n",
       "      <th>2</th>\n",
       "      <td>Stacks of Wheat (End of Summer)</td>\n",
       "      <td>https://api.artic.edu/api/v1/artworks/64818</td>\n",
       "    </tr>\n",
       "    <tr>\n",
       "      <th>3</th>\n",
       "      <td>Cliff Walk at Pourville</td>\n",
       "      <td>https://api.artic.edu/api/v1/artworks/14620</td>\n",
       "    </tr>\n",
       "    <tr>\n",
       "      <th>4</th>\n",
       "      <td>Water Lily Pond</td>\n",
       "      <td>https://api.artic.edu/api/v1/artworks/87088</td>\n",
       "    </tr>\n",
       "    <tr>\n",
       "      <th>5</th>\n",
       "      <td>The Beach at Sainte-Adresse</td>\n",
       "      <td>https://api.artic.edu/api/v1/artworks/14598</td>\n",
       "    </tr>\n",
       "    <tr>\n",
       "      <th>6</th>\n",
       "      <td>Bordighera</td>\n",
       "      <td>https://api.artic.edu/api/v1/artworks/81537</td>\n",
       "    </tr>\n",
       "    <tr>\n",
       "      <th>7</th>\n",
       "      <td>Stacks of Wheat (End of Day, Autumn)</td>\n",
       "      <td>https://api.artic.edu/api/v1/artworks/14624</td>\n",
       "    </tr>\n",
       "    <tr>\n",
       "      <th>8</th>\n",
       "      <td>Branch of the Seine near Giverny (Mist)</td>\n",
       "      <td>https://api.artic.edu/api/v1/artworks/16564</td>\n",
       "    </tr>\n",
       "    <tr>\n",
       "      <th>9</th>\n",
       "      <td>On the Bank of the Seine, Bennecourt</td>\n",
       "      <td>https://api.artic.edu/api/v1/artworks/81539</td>\n",
       "    </tr>\n",
       "  </tbody>\n",
       "</table>\n",
       "</div>"
      ],
      "text/plain": [
       "                                             Titulo  \\\n",
       "0                                      Water Lilies   \n",
       "1  Arrival of the Normandy Train, Gare Saint-Lazare   \n",
       "2                   Stacks of Wheat (End of Summer)   \n",
       "3                           Cliff Walk at Pourville   \n",
       "4                                   Water Lily Pond   \n",
       "5                       The Beach at Sainte-Adresse   \n",
       "6                                        Bordighera   \n",
       "7              Stacks of Wheat (End of Day, Autumn)   \n",
       "8           Branch of the Seine near Giverny (Mist)   \n",
       "9              On the Bank of the Seine, Bennecourt   \n",
       "\n",
       "                                           API  \n",
       "0  https://api.artic.edu/api/v1/artworks/16568  \n",
       "1  https://api.artic.edu/api/v1/artworks/16571  \n",
       "2  https://api.artic.edu/api/v1/artworks/64818  \n",
       "3  https://api.artic.edu/api/v1/artworks/14620  \n",
       "4  https://api.artic.edu/api/v1/artworks/87088  \n",
       "5  https://api.artic.edu/api/v1/artworks/14598  \n",
       "6  https://api.artic.edu/api/v1/artworks/81537  \n",
       "7  https://api.artic.edu/api/v1/artworks/14624  \n",
       "8  https://api.artic.edu/api/v1/artworks/16564  \n",
       "9  https://api.artic.edu/api/v1/artworks/81539  "
      ]
     },
     "execution_count": 73,
     "metadata": {},
     "output_type": "execute_result"
    }
   ],
   "source": [
    "df = pd.DataFrame(lista_Titulos, columns=['Titulo','API'])\n",
    "df"
   ]
  },
  {
   "cell_type": "code",
   "execution_count": null,
   "id": "ebfaba60-d890-4ebb-b3b2-9aad68424115",
   "metadata": {},
   "outputs": [],
   "source": [
    "#A partir de la lista creada anteriormente obten las fechas de inicio y de fin de todas las obras"
   ]
  },
  {
   "cell_type": "code",
   "execution_count": 47,
   "id": "98e3f226-672b-44c4-9db2-cb9556a24593",
   "metadata": {},
   "outputs": [],
   "source": [
    "lista_fechas = []\n",
    "lista_Temp = []\n",
    "\n",
    "for i in lista_Titulos:\n",
    "    resp = requests.get(i[1])\n",
    "    \n",
    "    fecha_inicio = resp.json()['data']['date_start']\n",
    "    fecha_fin = resp.json()['data']['date_end']\n",
    "    \n",
    "    lista_Temp.extend([fecha_inicio, fecha_fin])\n",
    "    lista_fechas.append(lista_Temp)\n",
    "    lista_Temp = []\n",
    "    \n",
    "    "
   ]
  },
  {
   "cell_type": "code",
   "execution_count": 53,
   "id": "738a102a-4a42-4196-a677-3099618d4a20",
   "metadata": {},
   "outputs": [],
   "source": [
    "#Crea un dataframe con los datos obtenidos en el ejercicio anterior"
   ]
  },
  {
   "cell_type": "code",
   "execution_count": 52,
   "id": "3511f99d-0e98-4caf-a70b-bc0df3225b26",
   "metadata": {},
   "outputs": [
    {
     "data": {
      "text/html": [
       "<div>\n",
       "<style scoped>\n",
       "    .dataframe tbody tr th:only-of-type {\n",
       "        vertical-align: middle;\n",
       "    }\n",
       "\n",
       "    .dataframe tbody tr th {\n",
       "        vertical-align: top;\n",
       "    }\n",
       "\n",
       "    .dataframe thead th {\n",
       "        text-align: right;\n",
       "    }\n",
       "</style>\n",
       "<table border=\"1\" class=\"dataframe\">\n",
       "  <thead>\n",
       "    <tr style=\"text-align: right;\">\n",
       "      <th></th>\n",
       "      <th>Fecha Inicio</th>\n",
       "      <th>Fecha Fin</th>\n",
       "    </tr>\n",
       "  </thead>\n",
       "  <tbody>\n",
       "    <tr>\n",
       "      <th>0</th>\n",
       "      <td>1906</td>\n",
       "      <td>1906</td>\n",
       "    </tr>\n",
       "    <tr>\n",
       "      <th>1</th>\n",
       "      <td>1877</td>\n",
       "      <td>1877</td>\n",
       "    </tr>\n",
       "    <tr>\n",
       "      <th>2</th>\n",
       "      <td>1891</td>\n",
       "      <td>1891</td>\n",
       "    </tr>\n",
       "    <tr>\n",
       "      <th>3</th>\n",
       "      <td>1882</td>\n",
       "      <td>1882</td>\n",
       "    </tr>\n",
       "    <tr>\n",
       "      <th>4</th>\n",
       "      <td>1900</td>\n",
       "      <td>1900</td>\n",
       "    </tr>\n",
       "    <tr>\n",
       "      <th>5</th>\n",
       "      <td>1867</td>\n",
       "      <td>1867</td>\n",
       "    </tr>\n",
       "    <tr>\n",
       "      <th>6</th>\n",
       "      <td>1884</td>\n",
       "      <td>1884</td>\n",
       "    </tr>\n",
       "    <tr>\n",
       "      <th>7</th>\n",
       "      <td>1891</td>\n",
       "      <td>1891</td>\n",
       "    </tr>\n",
       "    <tr>\n",
       "      <th>8</th>\n",
       "      <td>1897</td>\n",
       "      <td>1897</td>\n",
       "    </tr>\n",
       "    <tr>\n",
       "      <th>9</th>\n",
       "      <td>1868</td>\n",
       "      <td>1868</td>\n",
       "    </tr>\n",
       "  </tbody>\n",
       "</table>\n",
       "</div>"
      ],
      "text/plain": [
       "   Fecha Inicio  Fecha Fin\n",
       "0          1906       1906\n",
       "1          1877       1877\n",
       "2          1891       1891\n",
       "3          1882       1882\n",
       "4          1900       1900\n",
       "5          1867       1867\n",
       "6          1884       1884\n",
       "7          1891       1891\n",
       "8          1897       1897\n",
       "9          1868       1868"
      ]
     },
     "execution_count": 52,
     "metadata": {},
     "output_type": "execute_result"
    }
   ],
   "source": [
    "df2 = pd.DataFrame(lista_fechas, columns=['Fecha Inicio', 'Fecha Fin'])\n",
    "df2"
   ]
  },
  {
   "cell_type": "code",
   "execution_count": 54,
   "id": "a798d3da-1bf1-44bd-bf9d-b433ce464a66",
   "metadata": {},
   "outputs": [],
   "source": [
    "#Crea un dataframe en el que se muestren el titulo de la obra y sus respectivas fechas"
   ]
  },
  {
   "cell_type": "code",
   "execution_count": 89,
   "id": "ccc15cae-a2fa-444c-b15f-af2c340355a9",
   "metadata": {},
   "outputs": [],
   "source": [
    "lista_Final = []\n",
    "lista_temp = []\n",
    "\n",
    "for i in range(len(lista_Titulos)):\n",
    "    lista_Final.append([lista_Titulos[i][0],lista_fechas[i][0], lista_fechas[i][1]])\n"
   ]
  },
  {
   "cell_type": "code",
   "execution_count": 90,
   "id": "49f85520-b5fe-4d2d-acee-252f38889ee0",
   "metadata": {},
   "outputs": [
    {
     "data": {
      "text/plain": [
       "[['Water Lilies', 1906, 1906],\n",
       " ['Arrival of the Normandy Train, Gare Saint-Lazare', 1877, 1877],\n",
       " ['Stacks of Wheat (End of Summer)', 1891, 1891],\n",
       " ['Cliff Walk at Pourville', 1882, 1882],\n",
       " ['Water Lily Pond', 1900, 1900],\n",
       " ['The Beach at Sainte-Adresse', 1867, 1867],\n",
       " ['Bordighera', 1884, 1884],\n",
       " ['Stacks of Wheat (End of Day, Autumn)', 1891, 1891],\n",
       " ['Branch of the Seine near Giverny (Mist)', 1897, 1897],\n",
       " ['On the Bank of the Seine, Bennecourt', 1868, 1868]]"
      ]
     },
     "execution_count": 90,
     "metadata": {},
     "output_type": "execute_result"
    }
   ],
   "source": [
    "lista_Final"
   ]
  },
  {
   "cell_type": "code",
   "execution_count": 91,
   "id": "7185b52f-c6c0-47d9-aafc-1571741b6837",
   "metadata": {},
   "outputs": [
    {
     "data": {
      "text/html": [
       "<div>\n",
       "<style scoped>\n",
       "    .dataframe tbody tr th:only-of-type {\n",
       "        vertical-align: middle;\n",
       "    }\n",
       "\n",
       "    .dataframe tbody tr th {\n",
       "        vertical-align: top;\n",
       "    }\n",
       "\n",
       "    .dataframe thead th {\n",
       "        text-align: right;\n",
       "    }\n",
       "</style>\n",
       "<table border=\"1\" class=\"dataframe\">\n",
       "  <thead>\n",
       "    <tr style=\"text-align: right;\">\n",
       "      <th></th>\n",
       "      <th>Titulo</th>\n",
       "      <th>Fecha Inicio</th>\n",
       "      <th>Fecha Fin</th>\n",
       "    </tr>\n",
       "  </thead>\n",
       "  <tbody>\n",
       "    <tr>\n",
       "      <th>0</th>\n",
       "      <td>Water Lilies</td>\n",
       "      <td>1906</td>\n",
       "      <td>1906</td>\n",
       "    </tr>\n",
       "    <tr>\n",
       "      <th>1</th>\n",
       "      <td>Arrival of the Normandy Train, Gare Saint-Lazare</td>\n",
       "      <td>1877</td>\n",
       "      <td>1877</td>\n",
       "    </tr>\n",
       "    <tr>\n",
       "      <th>2</th>\n",
       "      <td>Stacks of Wheat (End of Summer)</td>\n",
       "      <td>1891</td>\n",
       "      <td>1891</td>\n",
       "    </tr>\n",
       "    <tr>\n",
       "      <th>3</th>\n",
       "      <td>Cliff Walk at Pourville</td>\n",
       "      <td>1882</td>\n",
       "      <td>1882</td>\n",
       "    </tr>\n",
       "    <tr>\n",
       "      <th>4</th>\n",
       "      <td>Water Lily Pond</td>\n",
       "      <td>1900</td>\n",
       "      <td>1900</td>\n",
       "    </tr>\n",
       "    <tr>\n",
       "      <th>5</th>\n",
       "      <td>The Beach at Sainte-Adresse</td>\n",
       "      <td>1867</td>\n",
       "      <td>1867</td>\n",
       "    </tr>\n",
       "    <tr>\n",
       "      <th>6</th>\n",
       "      <td>Bordighera</td>\n",
       "      <td>1884</td>\n",
       "      <td>1884</td>\n",
       "    </tr>\n",
       "    <tr>\n",
       "      <th>7</th>\n",
       "      <td>Stacks of Wheat (End of Day, Autumn)</td>\n",
       "      <td>1891</td>\n",
       "      <td>1891</td>\n",
       "    </tr>\n",
       "    <tr>\n",
       "      <th>8</th>\n",
       "      <td>Branch of the Seine near Giverny (Mist)</td>\n",
       "      <td>1897</td>\n",
       "      <td>1897</td>\n",
       "    </tr>\n",
       "    <tr>\n",
       "      <th>9</th>\n",
       "      <td>On the Bank of the Seine, Bennecourt</td>\n",
       "      <td>1868</td>\n",
       "      <td>1868</td>\n",
       "    </tr>\n",
       "  </tbody>\n",
       "</table>\n",
       "</div>"
      ],
      "text/plain": [
       "                                             Titulo  Fecha Inicio  Fecha Fin\n",
       "0                                      Water Lilies          1906       1906\n",
       "1  Arrival of the Normandy Train, Gare Saint-Lazare          1877       1877\n",
       "2                   Stacks of Wheat (End of Summer)          1891       1891\n",
       "3                           Cliff Walk at Pourville          1882       1882\n",
       "4                                   Water Lily Pond          1900       1900\n",
       "5                       The Beach at Sainte-Adresse          1867       1867\n",
       "6                                        Bordighera          1884       1884\n",
       "7              Stacks of Wheat (End of Day, Autumn)          1891       1891\n",
       "8           Branch of the Seine near Giverny (Mist)          1897       1897\n",
       "9              On the Bank of the Seine, Bennecourt          1868       1868"
      ]
     },
     "execution_count": 91,
     "metadata": {},
     "output_type": "execute_result"
    }
   ],
   "source": [
    "df_final = pd.DataFrame(lista_Final, columns=['Titulo','Fecha Inicio', 'Fecha Fin'])\n",
    "df_final"
   ]
  }
 ],
 "metadata": {
  "kernelspec": {
   "display_name": "Python 3",
   "language": "python",
   "name": "python3"
  },
  "language_info": {
   "codemirror_mode": {
    "name": "ipython",
    "version": 3
   },
   "file_extension": ".py",
   "mimetype": "text/x-python",
   "name": "python",
   "nbconvert_exporter": "python",
   "pygments_lexer": "ipython3",
   "version": "3.8.8"
  }
 },
 "nbformat": 4,
 "nbformat_minor": 5
}
