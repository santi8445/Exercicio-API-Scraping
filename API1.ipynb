{
 "cells": [
  {
   "cell_type": "code",
   "execution_count": 1,
   "id": "5b7bedee-f5d2-4622-b1b6-d30c8febf76b",
   "metadata": {},
   "outputs": [],
   "source": [
    "#A través de está API do instituto de arte de Chicago realiza as seguintes tarefas\n",
    "#https://api.artic.edu/docs/#introduction"
   ]
  },
  {
   "cell_type": "code",
   "execution_count": null,
   "id": "22ca3d0d-252f-4d81-b400-66004d77491f",
   "metadata": {},
   "outputs": [],
   "source": [
    "#Carga nunha lista o título de todas as obras de monet y el acceso a sus respectivas APIS"
   ]
  },
  {
   "cell_type": "code",
   "execution_count": null,
   "id": "e9d30948-e417-4d5d-9c46-f9949bd62e15",
   "metadata": {},
   "outputs": [],
   "source": []
  },
  {
   "cell_type": "code",
   "execution_count": null,
   "id": "32d3f3f8-8b5a-447b-a8c6-b13dbfd236f3",
   "metadata": {},
   "outputs": [],
   "source": [
    "#A partir de la lista del ejercicio anterior crea un dataframe con las columnas de Titulo y API"
   ]
  },
  {
   "cell_type": "code",
   "execution_count": null,
   "id": "9e2d04d7-6227-4b6d-b957-572b8d27d93d",
   "metadata": {},
   "outputs": [],
   "source": []
  },
  {
   "cell_type": "code",
   "execution_count": null,
   "id": "5728bb29-1392-4e66-ae2f-ca715d91d6e9",
   "metadata": {},
   "outputs": [],
   "source": [
    "#A partir de la lista creada anteriormente obten las fechas de inicio y de fin de todas las obras"
   ]
  },
  {
   "cell_type": "code",
   "execution_count": null,
   "id": "e38ee061-19dc-4b2f-aa2e-cdfe33794592",
   "metadata": {},
   "outputs": [],
   "source": []
  },
  {
   "cell_type": "code",
   "execution_count": null,
   "id": "d920a6dc-3741-4fa6-a5b2-6af820c792f4",
   "metadata": {},
   "outputs": [],
   "source": [
    "#Crea un dataframe con los datos obtenidos en el ejercicio anterior"
   ]
  },
  {
   "cell_type": "code",
   "execution_count": null,
   "id": "cf0a3677-2412-4f06-8063-730077c8775b",
   "metadata": {},
   "outputs": [],
   "source": []
  },
  {
   "cell_type": "code",
   "execution_count": 2,
   "id": "640d3854-dfd0-4dec-a20b-a36a1cfb538b",
   "metadata": {},
   "outputs": [],
   "source": [
    "#Crea un dataframe en el que se muestren el titulo de la obra y sus respectivas fechas"
   ]
  },
  {
   "cell_type": "code",
   "execution_count": null,
   "id": "afdb2b86-7489-41ff-bd2a-4ff0e741561e",
   "metadata": {},
   "outputs": [],
   "source": []
  }
 ],
 "metadata": {
  "kernelspec": {
   "display_name": "Python 3",
   "language": "python",
   "name": "python3"
  },
  "language_info": {
   "codemirror_mode": {
    "name": "ipython",
    "version": 3
   },
   "file_extension": ".py",
   "mimetype": "text/x-python",
   "name": "python",
   "nbconvert_exporter": "python",
   "pygments_lexer": "ipython3",
   "version": "3.8.8"
  }
 },
 "nbformat": 4,
 "nbformat_minor": 5
}
