{
 "cells": [
  {
   "cell_type": "code",
   "execution_count": null,
   "id": "c56f004b-8a86-4a93-8969-a6ac1ad15eff",
   "metadata": {},
   "outputs": [],
   "source": [
    "#https://www.iqair.com/dashboard/api\n",
    "#Genera una nueva clave para utilizar la siguiente api"
   ]
  },
  {
   "cell_type": "code",
   "execution_count": null,
   "id": "347139c8-c1fa-4df8-be56-1c6d8cde834d",
   "metadata": {},
   "outputs": [],
   "source": [
    "#Comprueba si España está entre los paises que tienen estaciones de AirVisual"
   ]
  },
  {
   "cell_type": "code",
   "execution_count": null,
   "id": "7f0236ae-548d-4fd6-a15d-5a9c37fad2b0",
   "metadata": {},
   "outputs": [],
   "source": []
  },
  {
   "cell_type": "code",
   "execution_count": null,
   "id": "e605f969-2c1d-404f-9df4-d997c2687e0d",
   "metadata": {},
   "outputs": [],
   "source": [
    "#Muestra las ciudades de Andorra que tienen una estacion y agregalas a un dataframe"
   ]
  },
  {
   "cell_type": "code",
   "execution_count": null,
   "id": "87fe02a3-bb4b-4414-9628-0226bd3f0089",
   "metadata": {},
   "outputs": [],
   "source": []
  },
  {
   "cell_type": "code",
   "execution_count": 1,
   "id": "39a3121a-13f4-4b39-8e49-651c23ffd12b",
   "metadata": {},
   "outputs": [],
   "source": [
    "#Muestra las ciudades del estado de california (en EEUU) que tienen estaciones de AirVisual"
   ]
  },
  {
   "cell_type": "code",
   "execution_count": null,
   "id": "58bc9667-8c3f-44bc-bce3-949a9d90cfdf",
   "metadata": {},
   "outputs": [],
   "source": []
  }
 ],
 "metadata": {
  "kernelspec": {
   "display_name": "Python 3",
   "language": "python",
   "name": "python3"
  },
  "language_info": {
   "codemirror_mode": {
    "name": "ipython",
    "version": 3
   },
   "file_extension": ".py",
   "mimetype": "text/x-python",
   "name": "python",
   "nbconvert_exporter": "python",
   "pygments_lexer": "ipython3",
   "version": "3.8.8"
  }
 },
 "nbformat": 4,
 "nbformat_minor": 5
}
